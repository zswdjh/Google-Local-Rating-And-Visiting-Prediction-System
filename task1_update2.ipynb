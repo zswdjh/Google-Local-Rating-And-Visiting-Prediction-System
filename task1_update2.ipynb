{
 "cells": [
  {
   "cell_type": "code",
   "execution_count": 4,
   "metadata": {
    "collapsed": true
   },
   "outputs": [],
   "source": [
    "import gzip\n",
    "from collections import defaultdict\n",
    "import random \n",
    "def readGz(f):\n",
    "    for l in gzip.open(f):\n",
    "        yield eval(l)"
   ]
  },
  {
   "cell_type": "code",
   "execution_count": 5,
   "metadata": {},
   "outputs": [
    {
     "name": "stdout",
     "output_type": "stream",
     "text": [
      "reading data...\n",
      "done\n"
     ]
    }
   ],
   "source": [
    "print('reading data...')\n",
    "data = list(readGz('train.json.gz'))\n",
    "print('done')"
   ]
  },
  {
   "cell_type": "code",
   "execution_count": 6,
   "metadata": {
    "collapsed": true
   },
   "outputs": [],
   "source": [
    "known_ub_pair = [(d['userID'],d['businessID']) for d in data]  #get known user,business pair from original 200,000 training data\n",
    "known_user = [d['userID'] for d in data]\n",
    "known_business = [d['businessID'] for d in data]\n",
    "iden_user = list(set(known_user))\n",
    "iden_business = list(set(known_business))\n"
   ]
  },
  {
   "cell_type": "code",
   "execution_count": 83,
   "metadata": {
    "collapsed": true
   },
   "outputs": [],
   "source": [
    "userRatings = defaultdict(list)\n",
    "for d in data:\n",
    "    user,business = d['userID'],d['businessID']\n",
    "    userRatings[user].append(d['rating'])\n",
    "userAverage = {}\n",
    "for u in userRatings:\n",
    "    userAverage[u] = sum(userRatings[u])/len(userRatings[u])"
   ]
  },
  {
   "cell_type": "code",
   "execution_count": 8,
   "metadata": {
    "collapsed": true
   },
   "outputs": [],
   "source": [
    "#create business-category pairs(duplicate category exist)\n",
    "busiCat_set = defaultdict(set)\n",
    "for b in iden_business:\n",
    "    cat = [d['categories'] for d in data if d['businessID'] == b]\n",
    "    combine_cat = [j for i in cat for j in i]\n",
    "    for i in combine_cat: \n",
    "        busiCat_set[b].add(i)"
   ]
  },
  {
   "cell_type": "code",
   "execution_count": 9,
   "metadata": {
    "collapsed": true
   },
   "outputs": [],
   "source": [
    "#create business_user and user_business pairs\n",
    "user_business = defaultdict(list)\n",
    "business_user = defaultdict(list)\n",
    "for (u,b) in known_ub_pair:\n",
    "    user_business[u].append(b)\n",
    "    business_user[b].append(u)\n",
    "for u in user_business:\n",
    "    user_business[u] = list(set(user_business[u]))\n",
    "for b in business_user:\n",
    "    business_user[b] = list(set(business_user[b]))"
   ]
  },
  {
   "cell_type": "code",
   "execution_count": 10,
   "metadata": {
    "collapsed": true
   },
   "outputs": [],
   "source": [
    "#get the list of popular business\n",
    "businessCount = defaultdict(int)\n",
    "totalPurchase = 0\n",
    "for (u,b) in known_ub_pair:\n",
    "    businessCount[b] += 1\n",
    "    totalPurchase += 1\n",
    "mostPopular = [(businessCount[x],x) for x in businessCount]\n",
    "mostPopular.sort()\n",
    "mostPopular.reverse()\n",
    "popular_business=set()  #set of 58% popular business\n",
    "count = 0\n",
    "for ic,i in mostPopular:\n",
    "    count +=ic\n",
    "    popular_business.add(i)\n",
    "    if count>totalPurchase*5.8/10:break\n",
    "    "
   ]
  },
  {
   "cell_type": "code",
   "execution_count": 91,
   "metadata": {
    "collapsed": true
   },
   "outputs": [],
   "source": [
    "#get the business category of each user\n",
    "userCat_set = defaultdict(set)\n",
    "for r in data:\n",
    "    if 'categories' in r:\n",
    "        for c in r['categories']:\n",
    "            if r['rating']>=userAverage[r['userID']]:\n",
    "                userCat_set[r['userID']].add(c)"
   ]
  },
  {
   "cell_type": "code",
   "execution_count": 94,
   "metadata": {
    "collapsed": true
   },
   "outputs": [],
   "source": [
    "userCat = defaultdict(set)\n",
    "for r in data:\n",
    "    if 'categories' in r:\n",
    "        for c in r['categories']:\n",
    "            userCat[r['userID']].add(c)"
   ]
  },
  {
   "cell_type": "code",
   "execution_count": 98,
   "metadata": {},
   "outputs": [],
   "source": [
    "############\n",
    "predictions = open('task1.txt','w')\n",
    "for l in open('pairs_Visit.txt'):\n",
    "    if l.startswith('userID'):\n",
    "        predictions.write(l)\n",
    "        continue\n",
    "    u,b = l.strip().split('-')\n",
    "    if u in iden_user:\n",
    "        if b in iden_business:\n",
    "            similar_business = []\n",
    "            for elseuser in business_user[b]:\n",
    "                sim = len(userCat_set[u].intersection(userCat_set[elseuser]))/len(userCat_set[u].union(userCat_set[elseuser]))\n",
    "                if sim>=0.25:  #similarity beween users\n",
    "                    for bb in user_business[elseuser]:\n",
    "                        similar_business.append(bb)\n",
    "            if b in similar_business:\n",
    "                pre_predict_1 = 1\n",
    "            else:\n",
    "                pre_predict_1 = 0\n",
    "            #################################\n",
    "            sim_value = []\n",
    "            for bbb in user_business[u]:\n",
    "                sim = len(busiCat_set[b].intersection(busiCat_set[bbb]))/len(busiCat_set[b].union(busiCat_set[b]))\n",
    "                sim_value.append(sim)\n",
    "            sim_value.sort()\n",
    "            sim_value.reverse()\n",
    "            if len(sim_value)>1 and sim_value[1]>0.8:  #threshold for business in test and that of all the business user visited\n",
    "                pre_predict_2 = 1\n",
    "            else:\n",
    "                pre_predict_2 = 0\n",
    "            if pre_predict_1==1 and pre_predict_2 ==1:\n",
    "                predict = 1\n",
    "            else:\n",
    "                predict = 0\n",
    "                \n",
    "                \n",
    "        else:\n",
    "            if len(userCat[u])>40:                  #\n",
    "                predict = 1\n",
    "            else:\n",
    "                predict = 0\n",
    "    else:\n",
    "        if b in iden_business and b in popular_business:\n",
    "            predict = 1\n",
    "        else:\n",
    "            predict = 0#random.randint(0,1)\n",
    "    predictions.write(u + '-' + b + ',' + str(predict) + '\\n')\n",
    "predictions.close()      \n",
    "    "
   ]
  },
  {
   "cell_type": "code",
   "execution_count": null,
   "metadata": {
    "collapsed": true
   },
   "outputs": [],
   "source": []
  },
  {
   "cell_type": "code",
   "execution_count": null,
   "metadata": {
    "collapsed": true
   },
   "outputs": [],
   "source": []
  },
  {
   "cell_type": "code",
   "execution_count": null,
   "metadata": {
    "collapsed": true
   },
   "outputs": [],
   "source": [
    "predictions = open('task1.txt','w')\n",
    "for l in open('pairs_Visit.txt'):\n",
    "    if l.startswith('userID'):\n",
    "        predictions.write(l)\n",
    "        continue\n",
    "    u,b = l.strip().split('-')\n",
    "    if u in iden_user and b in iden_business:\n",
    "        similarity = []\n",
    "        for u_b in user_business[u]:\n",
    "            similarity.append(len(busiCat_set[b].intersection(busiCat_set[u_b]))/len(busiCat_set[b].union(busiCat_set[u_b])))\n",
    "            similarity.sort()\n",
    "            similarity.reverse()\n",
    "            if similarity[0]>0.2:                   #\n",
    "                predict = 1\n",
    "            else:\n",
    "                predict = 0\n",
    "    if u in iden_user and b not in iden_business:\n",
    "        if len(userCat_set[u])>25:                  #\n",
    "            predict = 1\n",
    "        else:\n",
    "            predict = 0\n",
    "    if u not in iden_user and b in iden_business:\n",
    "        if b in popular_business:\n",
    "            predict = 1\n",
    "        else:\n",
    "            predict = 0\n",
    "    if u not in iden_user and b not in iden_business:\n",
    "        predict = 0#random.randint(0,1)\n",
    "    predictions.write(u + '-' + b + ',' + str(predict) + '\\n')\n",
    "predictions.close()      \n",
    "    "
   ]
  },
  {
   "cell_type": "code",
   "execution_count": null,
   "metadata": {
    "collapsed": true
   },
   "outputs": [],
   "source": [
    "######################create business-category pairs(duplicate category exist)\n",
    "busiCat = defaultdict(list)\n",
    "for b in iden_business:\n",
    "    cat = [d['categories'] for d in data if d['businessID'] == b]\n",
    "    combine_cat = [j for i in cat for j in i]\n",
    "    for i in combine_cat: \n",
    "        busiCat[b].append(i)\n",
    "#######################calculate the similarity between every business pairs\n",
    "sim_u = defaultdict(float)  \n",
    "for n1 in range(len(iden_business)):\n",
    "    for n2 in range(len(iden_business)):\n",
    "        user1 = iden_business[n1]\n",
    "        user2 = iden_business[n2]\n",
    "        sim_u[(user1,user2)] = len(set(busiCat[user1]).intersection(set(busiCat[user2])))/len(set(busiCat[user1]).union(set(busiCat[user2])))"
   ]
  }
 ],
 "metadata": {
  "kernelspec": {
   "display_name": "Python 3",
   "language": "python",
   "name": "python3"
  },
  "language_info": {
   "codemirror_mode": {
    "name": "ipython",
    "version": 3
   },
   "file_extension": ".py",
   "mimetype": "text/x-python",
   "name": "python",
   "nbconvert_exporter": "python",
   "pygments_lexer": "ipython3",
   "version": "3.6.2"
  }
 },
 "nbformat": 4,
 "nbformat_minor": 2
}
