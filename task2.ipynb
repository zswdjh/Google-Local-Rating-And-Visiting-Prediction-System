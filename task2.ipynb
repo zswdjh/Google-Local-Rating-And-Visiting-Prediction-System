{
 "cells": [
  {
   "cell_type": "code",
   "execution_count": 1,
   "metadata": {},
   "outputs": [
    {
     "name": "stdout",
     "output_type": "stream",
     "text": [
      "reading data...\n",
      "done\n"
     ]
    }
   ],
   "source": [
    "import gzip\n",
    "from collections import defaultdict\n",
    "def readGz(f):\n",
    "    for l in gzip.open(f):\n",
    "        yield eval(l)\n",
    "print('reading data...')\n",
    "training = list(readGz('train.json.gz'))\n",
    "print('done')"
   ]
  },
  {
   "cell_type": "code",
   "execution_count": null,
   "metadata": {
    "collapsed": true
   },
   "outputs": [],
   "source": [
    "#training = data\n",
    "#validation = data[int(len(data)/2):]"
   ]
  },
  {
   "cell_type": "code",
   "execution_count": 2,
   "metadata": {
    "collapsed": true
   },
   "outputs": [],
   "source": [
    "user_iden = [d['userID'] for d in training]\n",
    "user_iden = list(set(user_iden))\n",
    "business_iden = [d['businessID'] for d in training]\n",
    "business_iden = list(set(business_iden))\n",
    "training_data = [(d['userID'],d['businessID'],d['rating']) for d in training]\n",
    "u_b_rating = defaultdict(float)\n",
    "user_business = defaultdict(list)\n",
    "business_user = defaultdict(list)\n",
    "for (u,b,r) in training_data:\n",
    "    u_b_rating[(u,b)] = r\n",
    "    user_business[u].append(b)\n",
    "    business_user[b].append(u)\n",
    "for u in user_business:\n",
    "    user_business[u] = list(set(user_business[u]))\n",
    "for b in business_user:\n",
    "    business_user[b] = list(set(business_user[b]))\n",
    "beta_user = defaultdict(float)\n",
    "beta_business = defaultdict(float)\n",
    "gamma_user = defaultdict(float)\n",
    "gamma_business = defaultdict(float)\n",
    "\n",
    "\n"
   ]
  },
  {
   "cell_type": "code",
   "execution_count": 3,
   "metadata": {
    "collapsed": true
   },
   "outputs": [],
   "source": [
    "allRating = []\n",
    "userRating = defaultdict(list)\n",
    "businessRating = defaultdict(list)\n",
    "for (u,b,r) in training_data:\n",
    "    allRating.append(r)\n",
    "    userRating[u].append(r)\n",
    "    businessRating[b].append(r)\n",
    "globalAverage = sum(allRating)/len(allRating)\n",
    "userAverage = {}\n",
    "for u in userRating:\n",
    "    userAverage[u] = sum(userRating[u])/len(userRating[u])\n",
    "businessAverage = {}\n",
    "for b in businessRating:\n",
    "    businessAverage[b] = sum(businessRating[b])/len(businessRating[b])"
   ]
  },
  {
   "cell_type": "code",
   "execution_count": null,
   "metadata": {
    "collapsed": true
   },
   "outputs": [],
   "source": []
  },
  {
   "cell_type": "code",
   "execution_count": 4,
   "metadata": {
    "collapsed": true
   },
   "outputs": [],
   "source": [
    "#initialize\n",
    "from random import randint\n",
    "lam = 4\n",
    "alpha = randint(40,45)/10\n",
    "for u in user_iden:\n",
    "    beta_user[u] = randint(-20,20)/100\n",
    "    gamma_user[u] = randint(-20,20)/100\n",
    "for b in business_iden:\n",
    "    beta_business[b] = randint(-20,20)/100\n",
    "    gamma_business[b] = randint(-20,20)/100"
   ]
  },
  {
   "cell_type": "code",
   "execution_count": 5,
   "metadata": {
    "collapsed": true
   },
   "outputs": [],
   "source": [
    "#update\n",
    "#(1) fix gamma_business, update gamma_user\n",
    "for iteration in range(2):\n",
    "    for u in user_iden:\n",
    "        update_gamma_user = 0\n",
    "        sum_gamma_b = 0\n",
    "        for b in user_business[u]:\n",
    "            update_gamma_user += ( u_b_rating[(u,b)]-alpha-beta_user[u]-beta_business[b] )*gamma_business[b]\n",
    "            sum_gamma_b += gamma_business[b]**2 \n",
    "        gamma_user[u] = update_gamma_user/( sum_gamma_b + lam)\n",
    "    #(2) fix gamma_user , update gamma_business\n",
    "    for b in business_iden:\n",
    "        update_gamma_business = 0\n",
    "        sum_gamma_u = 0\n",
    "        for u in business_user[b]:\n",
    "            update_gamma_business += ( u_b_rating[(u,b)]-alpha-beta_user[u]-beta_business[b] )*gamma_user[u]\n",
    "            sum_gamma_u += gamma_user[u]**2\n",
    "        gamma_business[b] = update_gamma_business/( sum_gamma_u + lam)\n",
    "    #(3) fix gamma_user and gamma_business, update alpha\n",
    "    update_alpha = 0\n",
    "    for (u,b,r) in training_data:\n",
    "        update_alpha += r - beta_user[u]-beta_business[b]-gamma_user[u]*gamma_business[b]\n",
    "    alpha = update_alpha / len(training_data)\n",
    "    #(4) fix gamma_business, gamma_user, alpha , update beta_user\n",
    "    for u in user_iden:\n",
    "        update_beta_user = 0\n",
    "        for b in user_business[u]:\n",
    "            update_beta_user += u_b_rating[(u,b)] - alpha-beta_business[b]-gamma_user[u]*gamma_business[b]\n",
    "        beta_user[u] = update_beta_user/(len(user_business[u]) + lam)\n",
    "    for b in business_iden:\n",
    "        update_beta_business = 0\n",
    "        for u in business_user[b]:\n",
    "            update_beta_business += u_b_rating[(u,b)] - alpha-beta_user[u]-gamma_user[u]*gamma_business[b]\n",
    "        beta_business[b] = update_beta_business/(len(business_user[b])+lam)\n",
    "    \n",
    "    "
   ]
  },
  {
   "cell_type": "code",
   "execution_count": 6,
   "metadata": {
    "collapsed": true
   },
   "outputs": [],
   "source": [
    "predictions = open('task2_rating.txt','w')\n",
    "for l in open('pairs_Rating.txt'):\n",
    "    if l.startswith('userID'):\n",
    "        predictions.write(l)\n",
    "        continue\n",
    "    u,b = l.strip().split('-')\n",
    "    if u in user_iden:\n",
    "        if b in business_iden:\n",
    "            rating = alpha+beta_user[u]+beta_business[b]+gamma_user[u]*gamma_business[b]\n",
    "            predictions.write(u+'-'+b+','+str(rating)+'\\n')\n",
    "        else:\n",
    "            rating = alpha+beta_user[u]\n",
    "            predictions.write(u+'-'+b+','+str(rating)+'\\n')\n",
    "    else:\n",
    "        if b in business_iden:\n",
    "            rating = alpha+beta_business[b]\n",
    "            predictions.write(u+'-'+b+','+str(rating)+'\\n')\n",
    "        else:\n",
    "            rating = alpha\n",
    "            predictions.write(u+'-'+b+','+str(rating)+'\\n')\n",
    "predictions.close()\n",
    "            "
   ]
  },
  {
   "cell_type": "code",
   "execution_count": null,
   "metadata": {
    "collapsed": true
   },
   "outputs": [],
   "source": [
    "# find lambda = 4, iteration time =2 ,the best result"
   ]
  },
  {
   "cell_type": "code",
   "execution_count": null,
   "metadata": {
    "collapsed": true
   },
   "outputs": [],
   "source": [
    "#MSE of training data\n",
    "MSE_training = 0\n",
    "for (u,b,r) in training_data:\n",
    "    MSE_training += (alpha+beta_user[u]+beta_business[b]+gamma_user[u]*gamma_business[b]-r)**2\n",
    "MSE_training = MSE_training/len(training)\n",
    "print('MSE for training_data is :',MSE_training)\n",
    "#MSE of validation set\n",
    "validation_data = [(d['userID'],d['businessID'],d['rating']) for d in validation]\n",
    "MSE_validation = 0\n",
    "for (u,b,r) in validation_data:\n",
    "    if u in user_iden:\n",
    "        if b in business_iden:\n",
    "            MSE_validation += (alpha+beta_user[u]+beta_business[b]+gamma_user[u]*gamma_business[b]-userAverage[u])**2\n",
    "        else:\n",
    "            MSE_validation += (alpha+beta_user[u]-r)**2\n",
    "    else:\n",
    "        if b in business_iden:\n",
    "            MSE_validation += (alpha+beta_user[u]+beta_business[b]+gamma_user[u]*gamma_business[b]-businessAverage[b])**2\n",
    "        else:\n",
    "            MSE_validation += (alpha-globalAverage)**2\n",
    "MSE_validation = MSE_validation/len(validation_data)\n",
    "print('MSE for validation_data :',MSE_validation)\n",
    "    "
   ]
  },
  {
   "cell_type": "code",
   "execution_count": null,
   "metadata": {
    "collapsed": true
   },
   "outputs": [],
   "source": [
    "#MSE of training data\n",
    "    MSE_training = 0\n",
    "    for (u,b,r) in training_data:\n",
    "        MSE_training += (alpha+beta_user[u]+beta_business[b]+gamma_user[u]*gamma_business[b]-r)**2\n",
    "    MSE_training = MSE_training/len(training)\n",
    "    print('MSE for training_data is :',MSE_training)\n",
    "    #MSE of validation set\n",
    "    validation_data = [(d['userID'],d['businessID'],d['rating']) for d in validation]\n",
    "    MSE_validation = 0\n",
    "    for (u,b,r) in validation_data:\n",
    "        if u in user_iden:\n",
    "            if b in business_iden:\n",
    "                MSE_validation += (alpha+beta_user[u]+beta_business[b]+gamma_user[u]*gamma_business[b]-r)**2\n",
    "            else:\n",
    "                MSE_validation += (alpha+beta_user[u]-userAverage[u])**2\n",
    "        else:\n",
    "            if b in business_iden:\n",
    "                MSE_validation += (alpha+beta_business[b]-businessAverage[b])**2\n",
    "            else:\n",
    "                MSE_validation += (alpha-globalAverage)**2\n",
    "    MSE_validation = MSE_validation/len(validation_data)\n",
    "    print('MSE for validation_data :',MSE_validation)\n",
    "    "
   ]
  },
  {
   "cell_type": "code",
   "execution_count": null,
   "metadata": {
    "collapsed": true
   },
   "outputs": [],
   "source": []
  },
  {
   "cell_type": "code",
   "execution_count": null,
   "metadata": {
    "collapsed": true
   },
   "outputs": [],
   "source": []
  },
  {
   "cell_type": "code",
   "execution_count": null,
   "metadata": {
    "collapsed": true
   },
   "outputs": [],
   "source": []
  },
  {
   "cell_type": "code",
   "execution_count": null,
   "metadata": {
    "collapsed": true
   },
   "outputs": [],
   "source": []
  },
  {
   "cell_type": "code",
   "execution_count": null,
   "metadata": {
    "collapsed": true
   },
   "outputs": [],
   "source": []
  }
 ],
 "metadata": {
  "kernelspec": {
   "display_name": "Python 3",
   "language": "python",
   "name": "python3"
  },
  "language_info": {
   "codemirror_mode": {
    "name": "ipython",
    "version": 3
   },
   "file_extension": ".py",
   "mimetype": "text/x-python",
   "name": "python",
   "nbconvert_exporter": "python",
   "pygments_lexer": "ipython3",
   "version": "3.6.2"
  }
 },
 "nbformat": 4,
 "nbformat_minor": 2
}
